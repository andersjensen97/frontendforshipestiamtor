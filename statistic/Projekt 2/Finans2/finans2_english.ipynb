{
 "cells": [
  {
   "cell_type": "markdown",
   "metadata": {},
   "source": [
    "# Finans Project 2 - English\n",
    "This notebook is for assistance with the coding of some questions in the project.\n",
    "The sections are marked with the corresponding question in the project description.\n",
    "Remember, this code is provided to get started with the project, but the code is not complete for answering the corresponding questions."
   ]
  },
  {
   "cell_type": "markdown",
   "metadata": {},
   "source": [
    "#### Initialize Python Packages"
   ]
  },
  {
   "cell_type": "code",
   "execution_count": null,
   "metadata": {},
   "outputs": [],
   "source": [
    "import numpy as np\n",
    "import matplotlib.pyplot as plt\n",
    "import pandas as pd\n",
    "import scipy.stats as stats\n",
    "import statsmodels.formula.api as smf\n",
    "import statsmodels.api as sm"
   ]
  },
  {
   "cell_type": "markdown",
   "metadata": {},
   "source": [
    "#### Read Data"
   ]
  },
  {
   "cell_type": "code",
   "execution_count": null,
   "metadata": {},
   "outputs": [],
   "source": [
    "# Path to file (insert your own path)\n",
    "file_path = '/Users/andriaspoulsen/Documents/DTU/intro_stat_translation/projects/finans2/finans2_data.csv'\n",
    "\n",
    "# Load data\n",
    "D = pd.read_csv(file_path,sep=';')\n",
    "\n",
    "# Change name of column Geo.mean to Geo_mean, due to the period can cause issues\n",
    "D = D.rename(columns={'Geo.mean':'Geo_mean'})\n",
    "\n",
    "# set index of dataframe to be ETF\n",
    "D = D.set_index('ETF')\n",
    "D"
   ]
  },
  {
   "cell_type": "markdown",
   "metadata": {},
   "source": [
    "#### Split the data\n",
    "Save four ETF's for testing only. Use all the others for parameter estimation."
   ]
  },
  {
   "cell_type": "code",
   "execution_count": null,
   "metadata": {},
   "outputs": [],
   "source": [
    "# Subset containing only AGG, VAW, IWN and SPY for validation\n",
    "D_test = D[D.index.isin(['AGG','VAW','IWN','SPY'])]\n",
    "\n",
    "# Subset containing all remaining ETFs for model estimation\n",
    "D_model = D[~D.index.isin(['AGG','VAW','IWN','SPY'])]"
   ]
  },
  {
   "cell_type": "markdown",
   "metadata": {},
   "source": [
    "#### c) Fitting the model - Estimating parameters"
   ]
  },
  {
   "cell_type": "code",
   "execution_count": null,
   "metadata": {},
   "outputs": [],
   "source": [
    "# Estimate multiple linear regression model\n",
    "fit = smf.ols('Geo_mean ~ Volatility + maxTuW', data=D_model).fit()\n",
    "display(fit.summary(slim=True))"
   ]
  },
  {
   "cell_type": "markdown",
   "metadata": {},
   "source": [
    "#### d) Model validation"
   ]
  },
  {
   "cell_type": "code",
   "execution_count": null,
   "metadata": {},
   "outputs": [],
   "source": [
    "# Observations against fitted values\n",
    "plt.scatter(fit.fittedvalues, D_model.Geo_mean)\n",
    "plt.xlabel(\"Fitted values\")\n",
    "plt.ylabel(\"Geom. average rate of return\")\n",
    "plt.show()\n",
    "\n",
    "# Residuals against each of the explanatory variables\n",
    "plt.scatter(D_model.(EXPLANATORY_VARIABLE_HERE), fit.resid)\n",
    "plt.xlabel(\"INSERT TEXT HERE\")\n",
    "plt.ylabel(\"Residuals\")\n",
    "\n",
    "# Residuals against fitted values\n",
    "plt.scatter(fit.fittedvalues, fit.resid)\n",
    "plt.xlabel(\"Fitted values\")\n",
    "plt.ylabel(\"Residuals\")\n",
    "plt.show()\n",
    "\n",
    "# Normal QQ-plot of the residuals\n",
    "sm.qqplot(fit.resid, line='q')\n",
    "plt.ylabel(\"Residuals\")\n",
    "plt.show()"
   ]
  },
  {
   "cell_type": "markdown",
   "metadata": {},
   "source": [
    "#### e) Confidence interval"
   ]
  },
  {
   "cell_type": "code",
   "execution_count": null,
   "metadata": {},
   "outputs": [],
   "source": [
    "# Confidence intervals for the model coefficients\n",
    "fit.conf_int(alpha=0.05)"
   ]
  },
  {
   "cell_type": "markdown",
   "metadata": {},
   "source": [
    "#### h) Predictions"
   ]
  },
  {
   "cell_type": "code",
   "execution_count": null,
   "metadata": {},
   "outputs": [],
   "source": [
    "# Predictions and 95% prediction intervals\n",
    "final_model = fit # Insert your final model. Must be same format as \"fit\"\n",
    "pred = final_model.get_prediction(D_test).summary_frame(alpha=0.05)\n",
    "pred.set_index(D_test.index, inplace=True)\n",
    "\n",
    "\n",
    "# Observed values and predictions\n",
    "# New dataframe\n",
    "res = pd.DataFrame({'Geo_mean': D_test['Geo_mean'],'pred': pred['mean'],'pred_lower': pred['obs_ci_lower'],'pred_upper':pred['obs_ci_upper']})\n",
    "display(res)"
   ]
  }
 ],
 "metadata": {
  "kernelspec": {
   "display_name": "Python 3",
   "language": "python",
   "name": "python3"
  },
  "language_info": {
   "codemirror_mode": {
    "name": "ipython",
    "version": 3
   },
   "file_extension": ".py",
   "mimetype": "text/x-python",
   "name": "python",
   "nbconvert_exporter": "python",
   "pygments_lexer": "ipython3",
   "version": "3.11.4"
  }
 },
 "nbformat": 4,
 "nbformat_minor": 2
}
