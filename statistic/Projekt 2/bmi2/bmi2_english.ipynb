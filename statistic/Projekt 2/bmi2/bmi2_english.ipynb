{
 "cells": [
  {
   "cell_type": "markdown",
   "metadata": {},
   "source": [
    "# BMI Project 2 - English\n",
    "This notebook is for assistance with the coding of some questions in the project.\n",
    "The sections are marked with the corresponding question in the project description.\n",
    "Remember, this code is provided to get started with the project, but the code is not complete for answering the corresponding questions."
   ]
  },
  {
   "cell_type": "markdown",
   "metadata": {},
   "source": [
    "#### Initialize Python Packages"
   ]
  },
  {
   "cell_type": "code",
   "execution_count": null,
   "metadata": {},
   "outputs": [],
   "source": [
    "import numpy as np\n",
    "import matplotlib.pyplot as plt\n",
    "import pandas as pd\n",
    "import scipy.stats as stats\n",
    "import statsmodels.formula.api as smf\n",
    "import statsmodels.api as sm"
   ]
  },
  {
   "cell_type": "markdown",
   "metadata": {},
   "source": [
    "#### Read Data"
   ]
  },
  {
   "cell_type": "code",
   "execution_count": null,
   "metadata": {},
   "outputs": [],
   "source": [
    "# Path to file (insert your own path)\n",
    "file_path = '/Users/andriaspoulsen/Documents/DTU/intro_stat_translation/projects/bmi2/bmi2_data.csv'\n",
    "\n",
    "# Load data\n",
    "D = pd.read_csv(file_path,sep=';')\n",
    "D"
   ]
  },
  {
   "cell_type": "markdown",
   "metadata": {},
   "source": [
    "#### Log transform"
   ]
  },
  {
   "cell_type": "code",
   "execution_count": null,
   "metadata": {},
   "outputs": [],
   "source": [
    "# Add log-transformed BMI\n",
    "D['logbmi'] = np.log(D['bmi'])\n",
    "D"
   ]
  },
  {
   "cell_type": "markdown",
   "metadata": {},
   "source": [
    "#### Split the data\n",
    "Save seven observations for testing only. Use everything else for parameter estimation."
   ]
  },
  {
   "cell_type": "code",
   "execution_count": null,
   "metadata": {},
   "outputs": [],
   "source": [
    "# Subset containing the first 840 observations (for model estimation)\n",
    "D_model = D[D['id'] <= 840]\n",
    "\n",
    "# Subset containing the last 7 observations (for validation)\n",
    "D_test = D[D['id'] >= 841]"
   ]
  },
  {
   "cell_type": "markdown",
   "metadata": {},
   "source": [
    "#### c) Fitting the model - Estimating parameters"
   ]
  },
  {
   "cell_type": "code",
   "execution_count": null,
   "metadata": {},
   "outputs": [],
   "source": [
    "# Estimate multiple linear regression model\n",
    "fit = smf.ols('logbmi ~ age + fastfood', data=D_model).fit()\n",
    "display(fit.summary(slim=True))"
   ]
  },
  {
   "cell_type": "markdown",
   "metadata": {},
   "source": [
    "#### d) Model validation"
   ]
  },
  {
   "cell_type": "code",
   "execution_count": null,
   "metadata": {},
   "outputs": [],
   "source": [
    "# Observations against fitted values\n",
    "plt.scatter(fit.fittedvalues, D_model.logbmi)\n",
    "plt.xlabel(\"Fitted values\")\n",
    "plt.ylabel(\"log(BMI)\")\n",
    "plt.show()\n",
    "\n",
    "# Residuals against each of the explanatory variables\n",
    "plt.scatter(D_model.(EXPLANATORY_VARIABLE_HERE), fit.resid)\n",
    "plt.xlabel(\"Insert text here\")\n",
    "plt.ylabel(\"Residuals\")\n",
    "\n",
    "# Residuals against fitted values\n",
    "plt.scatter(fit.fittedvalues, fit.resid)\n",
    "plt.xlabel(\"Fitted values\")\n",
    "plt.ylabel(\"Residuals\")\n",
    "plt.show()\n",
    "\n",
    "# Normal QQ-plot of the residuals\n",
    "sm.qqplot(fit.resid, line='q')\n",
    "plt.ylabel(\"Residuals\")\n",
    "plt.xlabel(\"Z-scores\")\n",
    "plt.title(\"\")\n",
    "plt.show()"
   ]
  },
  {
   "cell_type": "markdown",
   "metadata": {},
   "source": [
    "#### e) Confidence interval"
   ]
  },
  {
   "cell_type": "code",
   "execution_count": null,
   "metadata": {},
   "outputs": [],
   "source": [
    "# Confidence intervals for the model coefficients\n",
    "fit.conf_int(alpha=0.05)"
   ]
  },
  {
   "cell_type": "markdown",
   "metadata": {},
   "source": [
    "#### h) Predictions"
   ]
  },
  {
   "cell_type": "code",
   "execution_count": null,
   "metadata": {},
   "outputs": [],
   "source": [
    "# Predictions and 95% prediction intervals\n",
    "final_model = fit # Insert your final model. Must be same format as \"fit\"\n",
    "pred = final_model.get_prediction(D_test).summary_frame(alpha=0.05)\n",
    "\n",
    "# Reset index for D_test. So we can new dataframe with observed values and predictions\n",
    "D_test.reset_index(inplace=True)\n",
    "\n",
    "# Observed values and predictions\n",
    "# New dataframe\n",
    "res = pd.DataFrame({'id': D_test['id'],'logbmi': D_test['logbmi'],'pred': pred['mean'],'pred_lower': pred['obs_ci_lower'],'pred_upper':pred['obs_ci_upper']})\n",
    "display(res)"
   ]
  }
 ],
 "metadata": {
  "kernelspec": {
   "display_name": "Python 3",
   "language": "python",
   "name": "python3"
  },
  "language_info": {
   "codemirror_mode": {
    "name": "ipython",
    "version": 3
   },
   "file_extension": ".py",
   "mimetype": "text/x-python",
   "name": "python",
   "nbconvert_exporter": "python",
   "pygments_lexer": "ipython3",
   "version": "3.11.4"
  }
 },
 "nbformat": 4,
 "nbformat_minor": 2
}
