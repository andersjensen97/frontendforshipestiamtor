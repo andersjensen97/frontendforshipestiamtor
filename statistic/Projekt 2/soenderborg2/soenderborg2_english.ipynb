{
 "cells": [
  {
   "cell_type": "markdown",
   "metadata": {},
   "source": [
    "# Sønderborg Project 2 - English\n",
    "This notebook is for assistance with the coding of some questions in the project.\n",
    "The sections are marked with the corresponding question in the project description.\n",
    "Remember, this code is provided to get started with the project, but the code is not complete for answering the corresponding questions."
   ]
  },
  {
   "cell_type": "markdown",
   "metadata": {},
   "source": [
    "#### Initialize Python Packages"
   ]
  },
  {
   "cell_type": "code",
   "execution_count": null,
   "metadata": {},
   "outputs": [],
   "source": [
    "import numpy as np\n",
    "import matplotlib.pyplot as plt\n",
    "import pandas as pd\n",
    "import scipy.stats as stats\n",
    "import statsmodels.formula.api as smf\n",
    "import statsmodels.api as sm"
   ]
  },
  {
   "cell_type": "markdown",
   "metadata": {},
   "source": [
    "#### Read Data"
   ]
  },
  {
   "cell_type": "code",
   "execution_count": null,
   "metadata": {},
   "outputs": [],
   "source": [
    "# Path to file (insert your own path)\n",
    "file_path = '/Users/andriaspoulsen/Documents/DTU/intro_stat_translation/projects/soenderborg2/soenderborg2_data.csv'\n",
    "\n",
    "# Load data\n",
    "D = pd.read_csv(file_path,sep=';')\n",
    "D"
   ]
  },
  {
   "cell_type": "markdown",
   "metadata": {},
   "source": [
    "#### Filter Data\n",
    "We only want data from 15.October 2009 to 15.Apr 2010 and houses 3,5,10,17. Also no data with missing values"
   ]
  },
  {
   "cell_type": "code",
   "execution_count": null,
   "metadata": {},
   "outputs": [],
   "source": [
    "# Convert string to a datetime pandas object.\n",
    "D['t'] = pd.to_datetime(D['t'], format='%d/%m/%Y')\n",
    "\n",
    "# Only winter data 2009-2010\n",
    "D_model = D[(D['t'] >= '2009-10-15') & (D['t'] < '2010-04-16') & \n",
    "            (D['houseId'].isin([3,5,10,17]))]\n",
    "\n",
    "# remove missing  values\n",
    "D_model = D_model.dropna()"
   ]
  },
  {
   "cell_type": "markdown",
   "metadata": {},
   "source": [
    "#### c) Fitting the model - Estimating parameters"
   ]
  },
  {
   "cell_type": "code",
   "execution_count": null,
   "metadata": {},
   "outputs": [],
   "source": [
    "# Estimate multiple linear regression model\n",
    "fit = smf.ols('Q ~ Ta + G', data=D_model).fit()\n",
    "display(fit.summary(slim=True))"
   ]
  },
  {
   "cell_type": "markdown",
   "metadata": {},
   "source": [
    "#### d) Model validation"
   ]
  },
  {
   "cell_type": "code",
   "execution_count": null,
   "metadata": {},
   "outputs": [],
   "source": [
    "# Observations against fitted values\n",
    "plt.scatter(fit.fittedvalues, D_model.Q)\n",
    "plt.xlabel(\"Fitted values\")\n",
    "plt.ylabel(\"Heat consumption\")\n",
    "plt.show()\n",
    "\n",
    "# Residuals against each of the explanatory variables\n",
    "plt.scatter(D_model.(EXPLANATORY_VARIABLE_HERE), fit.resid)\n",
    "plt.xlabel(\"Insert text here\")\n",
    "plt.ylabel(\"Residuals\")\n",
    "\n",
    "# Residuals against fitted values\n",
    "plt.scatter(fit.fittedvalues, fit.resid)\n",
    "plt.xlabel(\"Fitted values\")\n",
    "plt.ylabel(\"Residuals\")\n",
    "plt.show()\n",
    "\n",
    "# Normal QQ-plot of the residuals\n",
    "sm.qqplot(fit.resid, line='q')\n",
    "plt.ylabel(\"Residuals\")\n",
    "plt.show()"
   ]
  },
  {
   "cell_type": "markdown",
   "metadata": {},
   "source": [
    "#### e) Confidence interval"
   ]
  },
  {
   "cell_type": "code",
   "execution_count": null,
   "metadata": {},
   "outputs": [],
   "source": [
    "# Confidence intervals for the model coefficients\n",
    "fit.conf_int(alpha=0.05)"
   ]
  },
  {
   "cell_type": "markdown",
   "metadata": {},
   "source": [
    "#### Test-subset"
   ]
  },
  {
   "cell_type": "code",
   "execution_count": null,
   "metadata": {},
   "outputs": [],
   "source": [
    "# Make dataset for validation. From original dataset.\n",
    "D_test = D[(D['t'] == '2008-12-06') & (D['houseId'] == 3) |\n",
    "           (D['t'] == '2009-02-22') & (D['houseId'] == 5) |\n",
    "           (D['t'] == '2009-03-12') & (D['houseId'] == 10) |\n",
    "           (D['t'] == '2009-04-01') & (D['houseId'] == 17)]\n",
    "D_test"
   ]
  },
  {
   "cell_type": "markdown",
   "metadata": {},
   "source": [
    "#### h) Predictions"
   ]
  },
  {
   "cell_type": "code",
   "execution_count": null,
   "metadata": {},
   "outputs": [],
   "source": [
    "# Predictions and 95% prediction intervals\n",
    "final_model = fit # Insert your final model. Must be same format as \"fit\"\n",
    "pred = final_model.get_prediction(D_test).summary_frame(alpha=0.05)\n",
    "\n",
    "# Reset index for D_test. So we can new dataframe with observed values and predictions\n",
    "D_test.reset_index(inplace=True)\n",
    "\n",
    "# Observed values and predictions\n",
    "# New dataframe\n",
    "res = pd.DataFrame({'id': D_test['houseId'],'Q': D_test['Q'],'pred': pred['mean'],'pred_lower': pred['obs_ci_lower'],'pred_upper':pred['obs_ci_upper']})\n",
    "display(res)"
   ]
  }
 ],
 "metadata": {
  "kernelspec": {
   "display_name": "Python 3",
   "language": "python",
   "name": "python3"
  },
  "language_info": {
   "codemirror_mode": {
    "name": "ipython",
    "version": 3
   },
   "file_extension": ".py",
   "mimetype": "text/x-python",
   "name": "python",
   "nbconvert_exporter": "python",
   "pygments_lexer": "ipython3",
   "version": "3.11.4"
  }
 },
 "nbformat": 4,
 "nbformat_minor": 2
}
