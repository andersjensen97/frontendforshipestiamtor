{
 "cells": [
  {
   "cell_type": "markdown",
   "metadata": {},
   "source": [
    "# Soenderborg Projekt 1 - English\n",
    "This notebook is for assistance with the coding for many of the questions in the project.\n",
    "The sections are marked with the corresponding question in the Project description.\n",
    "Remember, this code is provided to get started with the project, but the code is not complete for answering the corresponding questions\n",
    "#### Initialize python packages"
   ]
  },
  {
   "cell_type": "code",
   "execution_count": null,
   "metadata": {},
   "outputs": [],
   "source": [
    "import numpy as np\n",
    "import matplotlib.pyplot as plt\n",
    "import pandas as pd\n",
    "import scipy.stats as stats\n",
    "import statsmodels.formula.api as smf\n",
    "import statsmodels.api as sm"
   ]
  },
  {
   "cell_type": "markdown",
   "metadata": {},
   "source": [
    "#### Read data "
   ]
  },
  {
   "cell_type": "code",
   "execution_count": null,
   "metadata": {},
   "outputs": [],
   "source": [
    "# Path to project data (replace with your own path)\n",
    "file_path = '/Users/johndoe/Documents/DTU/intro_stat/projects/soenderborg1/soenderborg1_data.csv'\n",
    "\n",
    "## Read data into a pandas DataFrame\n",
    "D = pd.read_csv(file_path, delimiter=\";\")"
   ]
  },
  {
   "cell_type": "markdown",
   "metadata": {},
   "source": [
    "#### a) Simple summary of data"
   ]
  },
  {
   "cell_type": "code",
   "execution_count": null,
   "metadata": {},
   "outputs": [],
   "source": [
    "print(f\"Dimension of DataFrame: {D.shape}\") # f-strings allow us to insert variables directly into the string\n",
    "print(f\"Variable names: {D.columns}\")\n",
    "print(\"\\nFirst few rows of DataFrame:\") # \\n is the newline character for strings\n",
    "display(D.head())\n",
    "print(\"Last row of DataFrame:\")\n",
    "display(D.tail())\n",
    "print(\"Some summary statistics:\")\n",
    "display(D.describe())\n",
    "print(\"Data types:\", D.dtypes)\n"
   ]
  },
  {
   "cell_type": "markdown",
   "metadata": {},
   "source": [
    "#### b) Histogram (empirical)\n",
    "Histogram describing the empirical density of the daily heat consumptions of House 1"
   ]
  },
  {
   "cell_type": "code",
   "execution_count": null,
   "metadata": {},
   "outputs": [],
   "source": [
    "plt.hist(D['Q1'].dropna(), bins=20, density=True, color='blue', edgecolor='black') # dropna() removes potential missing values\n",
    "plt.xlabel(\"Heat consumption (House 1)\")\n",
    "plt.ylabel(\"Density\")\n",
    "plt.show()"
   ]
  },
  {
   "cell_type": "markdown",
   "metadata": {},
   "source": [
    "#### Date variable t"
   ]
  },
  {
   "cell_type": "code",
   "execution_count": null,
   "metadata": {},
   "outputs": [],
   "source": [
    "D['t'] = pd.to_datetime(D['t'])\n",
    "# to_datetime() method converts string to a datetime pandas object. \n",
    "# This is necesary to make it ordinal\n",
    "display(D['t'].describe())"
   ]
  },
  {
   "cell_type": "markdown",
   "metadata": {},
   "source": [
    "#### c) Plots of data over time"
   ]
  },
  {
   "cell_type": "code",
   "execution_count": null,
   "metadata": {},
   "outputs": [],
   "source": [
    "houses = ['Q1', 'Q2', 'Q3', 'Q4']\n",
    "colors = ['red', 'green', 'blue', 'purple']\n",
    "\n",
    "# Plot of heat consumption over time\n",
    "for i in range(4):\n",
    "    plt.plot(D['t'], D[houses[i]], color=colors[i], label=houses[i])\n",
    "\n",
    "plt.xlim(pd.to_datetime([\"2008-10-02\", \"2010-10-01\"]))\n",
    "plt.ylim(0, 9)\n",
    "plt.xlabel(\"Date\")\n",
    "plt.ylabel(\"Heat consumption\")\n",
    "plt.legend()\n",
    "plt.show()\n"
   ]
  },
  {
   "cell_type": "markdown",
   "metadata": {},
   "source": [
    "#### Data Subsets"
   ]
  },
  {
   "cell_type": "code",
   "execution_count": null,
   "metadata": {},
   "outputs": [],
   "source": [
    "# Subset of the data: only Jan-Feb 2010\n",
    "D_sub = D[(D['t'] >= \"2010-01-01\") & (D['t'] < \"2010-03-01\")]\n",
    "display(D_sub.head())"
   ]
  },
  {
   "cell_type": "markdown",
   "metadata": {},
   "source": [
    "#### d) Boxplot by House"
   ]
  },
  {
   "cell_type": "code",
   "execution_count": null,
   "metadata": {},
   "outputs": [],
   "source": [
    "houses = ['Q1', 'Q2', 'Q3', 'Q4']\n",
    "# Daily heat consumption by house\n",
    "plt.boxplot([D_sub[house].dropna() for house in houses], labels=houses)\n",
    "plt.xlabel(\"House\")\n",
    "plt.ylabel(\"Heat consumption\")\n",
    "plt.show()"
   ]
  },
  {
   "cell_type": "markdown",
   "metadata": {},
   "source": [
    "#### e) Key summary statistics for House 1"
   ]
  },
  {
   "cell_type": "code",
   "execution_count": null,
   "metadata": {},
   "outputs": [],
   "source": [
    "# Remember, we are still working with the subset D_sub (jan-feb 2010)\n",
    "print(f\"Total number of observations (without missing values): {D_sub['Q1'].notna().sum()}\")\n",
    "print(f\"Sample mean of weekly returns: {np.mean(D_sub['Q1'])}\")\n",
    "print(f\"Sample variance of weekly returns: {np.var(D_sub['Q1'], ddof=1)}\") # ddof=1 as we want the *sample* variance"
   ]
  },
  {
   "cell_type": "markdown",
   "metadata": {},
   "source": [
    "#### f) QQ-plot for model validation"
   ]
  },
  {
   "cell_type": "code",
   "execution_count": null,
   "metadata": {},
   "outputs": [],
   "source": [
    "# QQ plot for House 1\n",
    "sm.qqplot(D_sub['Q1'].dropna(), line='q')\n",
    "plt.show()"
   ]
  },
  {
   "cell_type": "markdown",
   "metadata": {},
   "source": [
    "#### g-h) One-sample t-test"
   ]
  },
  {
   "cell_type": "code",
   "execution_count": null,
   "metadata": {},
   "outputs": [],
   "source": [
    "# Test hypothesis mu = 2.38 for daily heat consumption of House 1\n",
    "res = stats.ttest_1samp(D_sub['Q1'].dropna(), popmean = 2.38)\n",
    "print(f\"t-statistic: {res.statistic}\")\n",
    "print(f\"p-value: {res.pvalue}\")\n",
    "\n",
    "# Confidence interval\n",
    "print(res.confidence_interval())"
   ]
  },
  {
   "cell_type": "markdown",
   "metadata": {},
   "source": [
    "#### i) Welch t-test"
   ]
  },
  {
   "cell_type": "markdown",
   "metadata": {},
   "source": [
    "#### Compare mean heat consumption of House 1 and House 2 with Welch t-test (for comparison of two independent means)"
   ]
  },
  {
   "cell_type": "code",
   "execution_count": null,
   "metadata": {},
   "outputs": [],
   "source": [
    "# Compare daily heat consumption of House 1 and House 2\n",
    "rest = stats.ttest_ind(D_sub['Q1'].dropna(), D_sub['Q2'].dropna(), equal_var=False)\n",
    "print(f\"t-statistic: {rest.statistic}\")\n",
    "print(f\"p-value: {rest.pvalue}\")"
   ]
  },
  {
   "cell_type": "markdown",
   "metadata": {},
   "source": [
    "#### k) Correlation"
   ]
  },
  {
   "cell_type": "code",
   "execution_count": null,
   "metadata": {},
   "outputs": [],
   "source": [
    "# Calculation of correlation between house 1 daily heat consumption and \n",
    "# global radiation\n",
    "print(D[[\"Q1\", \"G\"]].corr())"
   ]
  },
  {
   "cell_type": "markdown",
   "metadata": {},
   "source": [
    "## EXTRA\n",
    "#### Subsets in Python"
   ]
  },
  {
   "cell_type": "code",
   "execution_count": null,
   "metadata": {},
   "outputs": [],
   "source": [
    "## Optional extra remark about taking subsets in R\n",
    "##\n",
    "## A logical vector with TRUE or FALSE for each row in D, e.g.:\n",
    "## Finding days with frost\n",
    "frost_days = D['Ta'] < 0\n",
    "print(\"logical vector: \\n\", frost_days)\n",
    "## Can be used to extract heat consumptions for House 1 on \n",
    "## days with frost\n",
    "display(D['Q1'][frost_days])\n",
    "## The .loc function can be used as well (all data on frost days)\n",
    "print(\"Using .loc:\")\n",
    "display(D.loc[D['Ta'] < 0, :]) # \":\" means all columns\n",
    "\n",
    "## More complex logical expressions can be made, e.g.:\n",
    "## Observations from days with frost before 2010\n",
    "print(\"Frost days before 2010:\")\n",
    "display(D.loc[(D['Ta'] < 0) & (D['t'] < \"2010-01-01\"), 'Q1'])\n",
    "\n",
    "# \"display()\" function gives a nicer table than print. It is \n",
    "# especially useful when working with dataframes (pandas)"
   ]
  },
  {
   "cell_type": "markdown",
   "metadata": {},
   "source": [
    "#### Additional Python tips"
   ]
  },
  {
   "cell_type": "code",
   "execution_count": null,
   "metadata": {},
   "outputs": [],
   "source": [
    "## Make a for loop to calculate some summary statistics for each house\n",
    "Tbl = pd.DataFrame()\n",
    "for i in ['Q1', 'Q2', 'Q3', 'Q4']:\n",
    "    Tbl.loc[i, 'heat_mean'] = D[i].mean()\n",
    "    Tbl.loc[i, 'heat_var'] = D[i].var(ddof=1)\n",
    "\n",
    "display(Tbl)"
   ]
  },
  {
   "cell_type": "code",
   "execution_count": null,
   "metadata": {},
   "outputs": [],
   "source": [
    "# There are many other ways to do these calculations, some more concise. For example\n",
    "results = D.drop(columns=['t']).agg(['mean', 'var']) # drop the 't' column before calculating\n",
    "# The agg function (aggregate) is used to calculate the mean and variance \n",
    "display(results)\n",
    "\n",
    "# See more functions in pandas documentation: https://pandas.pydata.org/pandas-docs/stable/reference/api/pandas.DataFrame.html\n",
    "# Numpy documentationen: https://numpy.org/doc/stable/reference/index.html\n",
    "# Or find documentation or guides on other python packages/functions online."
   ]
  },
  {
   "cell_type": "markdown",
   "metadata": {},
   "source": [
    "#### Latex Tips\n",
    "Pandas (pd) also includes a function that is very handy for writing tables/dataframes directly into Latex-code. \n",
    "This is done by usind the function `pd.to_latex()`.\n",
    "The following is the simplest form of the function:"
   ]
  },
  {
   "cell_type": "code",
   "execution_count": null,
   "metadata": {},
   "outputs": [],
   "source": [
    "Tbl_latex = Tbl.to_latex()\n",
    "print(Tbl_latex)"
   ]
  }
 ],
 "metadata": {
  "kernelspec": {
   "display_name": "Python 3",
   "language": "python",
   "name": "python3"
  },
  "language_info": {
   "codemirror_mode": {
    "name": "ipython",
    "version": 3
   },
   "file_extension": ".py",
   "mimetype": "text/x-python",
   "name": "python",
   "nbconvert_exporter": "python",
   "pygments_lexer": "ipython3",
   "version": "3.11.4"
  }
 },
 "nbformat": 4,
 "nbformat_minor": 2
}
