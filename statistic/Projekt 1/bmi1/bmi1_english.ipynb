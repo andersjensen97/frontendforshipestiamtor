{
 "cells": [
  {
   "cell_type": "markdown",
   "metadata": {},
   "source": [
    "# BMI Projekt 1 - English\n",
    "This notebook is for assistance with the coding for many of the questions in the project.\n",
    "The sections are marked with the corresponding question in the Project description.\n",
    "Remember, this code is provided to get started with the project, but the code is not complete for answering the corresponding questions"
   ]
  },
  {
   "cell_type": "markdown",
   "metadata": {},
   "source": [
    "#### Initialize python packages"
   ]
  },
  {
   "cell_type": "code",
   "execution_count": null,
   "metadata": {},
   "outputs": [],
   "source": [
    "import numpy as np\n",
    "import pandas as pd\n",
    "import scipy.stats as stats\n",
    "import matplotlib.pyplot as plt\n",
    "import statsmodels.api as sm"
   ]
  },
  {
   "cell_type": "markdown",
   "metadata": {},
   "source": [
    "#### Read data"
   ]
  },
  {
   "cell_type": "code",
   "execution_count": null,
   "metadata": {},
   "outputs": [],
   "source": [
    "# Path to data file (insert your own path)\n",
    "file_path = '/Users/johndoe/Documents/DTU/intro_stat/projects/bmi1/bmi1_data.csv'\n",
    "\n",
    "# Load data\n",
    "D = pd.read_csv(file_path, sep=';')"
   ]
  },
  {
   "cell_type": "markdown",
   "metadata": {},
   "source": [
    "#### a) Simple summary of data\n"
   ]
  },
  {
   "cell_type": "code",
   "execution_count": null,
   "metadata": {},
   "outputs": [],
   "source": [
    "print(\"Dimensions of data frame (number of rows and columns): \", D.shape)\n",
    "print(\"Column/variable names: \", D.columns)\n",
    "print(\"First 5 rows of D:\") # (\\n means new line)\n",
    "display(D.head())\n",
    "print(\"Last 5 rows of D:\")\n",
    "display(D.tail())\n",
    "print(\"Description of D:\")\n",
    "display(D.describe())\n",
    "print(\"Types of variables:\\n\", D.dtypes)"
   ]
  },
  {
   "cell_type": "markdown",
   "metadata": {},
   "source": [
    "#### Calculate BMI"
   ]
  },
  {
   "cell_type": "code",
   "execution_count": null,
   "metadata": {},
   "outputs": [],
   "source": [
    "# Calculate BMI and add to data frame D\n",
    "D['bmi'] = D['weight'] / (D['height']/100)**2"
   ]
  },
  {
   "cell_type": "markdown",
   "metadata": {},
   "source": [
    "#### b) Histogram (Empirical density)"
   ]
  },
  {
   "cell_type": "code",
   "execution_count": null,
   "metadata": {},
   "outputs": [],
   "source": [
    "# Histogram describing the empirical density of BMI\n",
    "# (histogram for BMI normalized so that the area is 1)\n",
    "plt.hist(D['bmi'], bins = 15,density=True, color = 'blue', edgecolor = 'black')\n",
    "plt.show()"
   ]
  },
  {
   "cell_type": "markdown",
   "metadata": {},
   "source": [
    "#### Data subsets (men and women seperate)"
   ]
  },
  {
   "cell_type": "code",
   "execution_count": null,
   "metadata": {},
   "outputs": [],
   "source": [
    "# Split data into two sub data sets (men and women)\n",
    "D_female = D[D['gender']==0]\n",
    "D_male = D[D['gender']==1]"
   ]
  },
  {
   "cell_type": "markdown",
   "metadata": {},
   "source": [
    "#### c) Density Histograms for Men and Women seperately"
   ]
  },
  {
   "cell_type": "code",
   "execution_count": null,
   "metadata": {},
   "outputs": [],
   "source": [
    "# Density histograms describing the empirical density of BMI for Women and Men\n",
    "\n",
    "# Density histogram for women\n",
    "plt.hist(D_female['bmi'], bins=15, density=True, color='red', edgecolor='black')\n",
    "plt.show()\n",
    "\n",
    "# Density histogram for men\n",
    "plt.hist(D_male['bmi'], bins=15, density=True, color='blue', edgecolor='black')\n",
    "plt.show()\n",
    "\n",
    "# Combined in one plot\n",
    "plt.hist(D_female['bmi'], bins = 15,density=True, color = 'red', edgecolor = 'black', alpha = 0.5)\n",
    "plt.hist(D_male['bmi'], bins = 15,density=True, color = 'blue', edgecolor = 'black', alpha = 0.5)\n",
    "plt.show()\n"
   ]
  },
  {
   "cell_type": "markdown",
   "metadata": {},
   "source": [
    "#### d) Boxplot by genders"
   ]
  },
  {
   "cell_type": "code",
   "execution_count": null,
   "metadata": {},
   "outputs": [],
   "source": [
    "# Boxplot of BMI seperated into genders\n",
    "plt.boxplot([D_female['bmi'], D_male['bmi']])\n",
    "plt.show()"
   ]
  },
  {
   "cell_type": "markdown",
   "metadata": {},
   "source": [
    "#### e) Key summary statistics for BMI"
   ]
  },
  {
   "cell_type": "code",
   "execution_count": null,
   "metadata": {},
   "outputs": [],
   "source": [
    "# Number of observations in total. Do not include any missing observations.\n",
    "print(\"Total number of observations: \", D[D['bmi'].isna()==False].shape[0])\n",
    "\n",
    "# Sample mean (not split)\n",
    "print(\"Sample mean for BMI: \", D['bmi'].mean(skipna=True))\n",
    "\n",
    "# Sample variance (not split)\n",
    "print(\"Sample variance for BMI: \", D['bmi'].var(skipna=True, ddof=1))\n",
    "## Etc.\n",
    "# \"skipna=True\" means that missing values are ignored and the statistic can still be calculated\n",
    "# If there are missing values.\n",
    "# If skipna=False the function will return NaN if there are missing values in the data set.\n"
   ]
  },
  {
   "cell_type": "markdown",
   "metadata": {},
   "source": [
    "#### f) QQ-plot for model validation"
   ]
  },
  {
   "cell_type": "code",
   "execution_count": null,
   "metadata": {},
   "outputs": [],
   "source": [
    "# New variable 'logbmi' with log-transformed BMI\n",
    "D['logbmi'] = np.log(D['bmi'])\n",
    "\n",
    "# QQ-plot for log-transformed BMI\n",
    "sm.qqplot(D['logbmi'],line='q')\n",
    "plt.show()\n",
    "\n"
   ]
  },
  {
   "cell_type": "markdown",
   "metadata": {},
   "source": [
    "#### g-h) One-sample t-test"
   ]
  },
  {
   "cell_type": "code",
   "execution_count": null,
   "metadata": {},
   "outputs": [],
   "source": [
    "# T-test for one sample on log-transformed BMI\n",
    "res = stats.ttest_1samp(D['logbmi'], popmean = np.log(25))\n",
    "print(\"t-obs: \", res[0])\n",
    "print(\"p-value: \", res[1])\n",
    "\n",
    "# Confidence interval directly from t-test\n",
    "print(res.confidence_interval())"
   ]
  },
  {
   "cell_type": "markdown",
   "metadata": {},
   "source": [
    "#### j) Confidence interval (CI) for mean and median"
   ]
  },
  {
   "cell_type": "code",
   "execution_count": null,
   "metadata": {},
   "outputs": [],
   "source": [
    "# Using sample for women only\n",
    "D_female = D[D['gender']==0]\n",
    "n = D_female.shape[0]\n",
    "std_err = np.std(D_female['logbmi'],ddof=1)/np.sqrt(n)\n",
    "\n",
    "# CI for mean of logBMI for women\n",
    "KI = stats.t.interval(0.95, df=n-1, loc=D_female['logbmi'].mean(),scale=std_err)\n",
    "print(\"95% CI for mean of logBMI for women: \", KI)\n",
    "\n",
    "# Transform back to get CI for median BMI for women\n",
    "print(\"95% CI for median BMI for women: \", np.exp(KI))"
   ]
  },
  {
   "cell_type": "markdown",
   "metadata": {},
   "source": [
    "#### k) Welch t-test"
   ]
  },
  {
   "cell_type": "code",
   "execution_count": null,
   "metadata": {},
   "outputs": [],
   "source": [
    "# Comparison of logBMI for women and men\n",
    "D_male = D[D['gender'] == 1]\n",
    "res = stats.ttest_ind(D_female['logbmi'],D_male['logbmi'], equal_var=False)\n",
    "print(\"t-obs: \", res[0])\n",
    "print(\"p-value: \", res[1])"
   ]
  },
  {
   "cell_type": "markdown",
   "metadata": {},
   "source": []
  },
  {
   "cell_type": "markdown",
   "metadata": {},
   "source": [
    "#### m) Correlation"
   ]
  },
  {
   "cell_type": "code",
   "execution_count": null,
   "metadata": {},
   "outputs": [],
   "source": [
    "# Correlation between chosen variables\n",
    "print(D[['weight', 'fastfood', 'bmi']].corr())"
   ]
  },
  {
   "cell_type": "markdown",
   "metadata": {},
   "source": [
    "## EXTRA"
   ]
  },
  {
   "cell_type": "markdown",
   "metadata": {},
   "source": [
    "#### Subsets in Python"
   ]
  },
  {
   "cell_type": "code",
   "execution_count": null,
   "metadata": {},
   "outputs": [],
   "source": [
    "## Extra information about picking out subsets in Python\n",
    "#\n",
    "# Logical vector with TRUE or FALSE for every value in a column in D,\n",
    "# for example: Find all women in the dataframe\n",
    "women = D['gender'] == 0\n",
    "print(\"Logical vector: \\n\", women)\n",
    "# This logical vector can then be used to pick out all women (values where women = TRUE)\n",
    "print(\"Using logical vector:\")\n",
    "display(D[women])\n",
    "# Alternatively you can use the pandas function .loc\n",
    "print(\"Using .loc:\")\n",
    "display(D.loc[D['gender'] == 0, :]) # \":\" means all columns\n",
    "# More complex logical expressions kan be used, for example:\n",
    "# Find all women under 55 kg:\n",
    "print(\"Women under 55 kg:\")\n",
    "women_under_55kg = (D['gender'] == 0) & (D['weight'] < 55)\n",
    "display(D[women_under_55kg])\n",
    "\n",
    "## DISPLAY function gives a nicer table than print. This is especially useful when we \n",
    "# are working with dataframes (pandas)"
   ]
  },
  {
   "cell_type": "markdown",
   "metadata": {},
   "source": [
    "#### Additional Python tips"
   ]
  },
  {
   "cell_type": "code",
   "execution_count": null,
   "metadata": {},
   "outputs": [],
   "source": [
    "## Make a for-loop for calculating some summary statistics\n",
    "## and save in a new dataframe\n",
    "Tbl = pd.DataFrame()\n",
    "for i in [0,1]:\n",
    "    Tbl.loc[i, \"mean\"] = D[D['gender'] == i]['bmi'].mean()\n",
    "    Tbl.loc[i, \"var\"] = D[D['gender'] == i]['bmi'].var()\n",
    "\n",
    "Tbl.index = ['Women', 'Men'] # Nameing rows\n",
    "\n",
    "# show Tbl (dataframe)\n",
    "display(Tbl)\n"
   ]
  },
  {
   "cell_type": "code",
   "execution_count": null,
   "metadata": {},
   "outputs": [],
   "source": [
    "# There are many ways to reach the same restults, and some have more compact commands/functions:\n",
    "# For example:\n",
    "result = D.groupby('gender')['bmi'].agg(['mean', 'var'])\n",
    "# Here the groupby function is used to group the data by gender, and then the agg (aggregate) function\n",
    "# for calculating mean and variance for BMI for each group.\n",
    "display(result)\n",
    "\n",
    "# See more functions in pandas documentation: https://pandas.pydata.org/pandas-docs/stable/reference/api/pandas.DataFrame.html\n",
    "# Numpy documentation: https://numpy.org/doc/stable/reference/index.html\n",
    "# Or find documentation/guides for other python packages/functions online.\n"
   ]
  },
  {
   "cell_type": "markdown",
   "metadata": {},
   "source": [
    "#### Latex Tips\n",
    "Pandas (pd) also includes a function that is very handy for writing tables/dataframes directly into Latex-code. \n",
    "This is done by usind the function `pd.to_latex()`.\n",
    "The following is the simplest form of the function:"
   ]
  },
  {
   "cell_type": "code",
   "execution_count": null,
   "metadata": {},
   "outputs": [],
   "source": [
    "Tbl_latex = Tbl.to_latex()\n",
    "print(Tbl_latex)"
   ]
  }
 ],
 "metadata": {
  "kernelspec": {
   "display_name": "Python 3",
   "language": "python",
   "name": "python3"
  },
  "language_info": {
   "codemirror_mode": {
    "name": "ipython",
    "version": 3
   },
   "file_extension": ".py",
   "mimetype": "text/x-python",
   "name": "python",
   "nbconvert_exporter": "python",
   "pygments_lexer": "ipython3",
   "version": "3.11.4"
  }
 },
 "nbformat": 4,
 "nbformat_minor": 2
}
