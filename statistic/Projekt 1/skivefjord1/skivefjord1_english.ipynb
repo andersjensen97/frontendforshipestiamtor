{
 "cells": [
  {
   "cell_type": "markdown",
   "metadata": {},
   "source": [
    "# Skivefjord Projekt 1 - English\n",
    "This notebook is for assistance with the coding for many of the questions in the project.\n",
    "The sections are marked with the corresponding question in the Project description.\n",
    "Remember, this code is provided to get started with the project, but the code is not complete for answering the corresponding questions"
   ]
  },
  {
   "cell_type": "markdown",
   "metadata": {},
   "source": [
    "#### Initialize python packages"
   ]
  },
  {
   "cell_type": "code",
   "execution_count": null,
   "metadata": {},
   "outputs": [],
   "source": [
    "import numpy as np\n",
    "import pandas as pd\n",
    "import scipy.stats as stats\n",
    "import matplotlib.pyplot as plt\n",
    "import statsmodels.api as sm"
   ]
  },
  {
   "cell_type": "markdown",
   "metadata": {},
   "source": [
    "#### Read Data"
   ]
  },
  {
   "cell_type": "code",
   "execution_count": null,
   "metadata": {},
   "outputs": [],
   "source": [
    "# Path to data file (insert your own path)\n",
    "file_path = '/Users/johndoe/Documents/DTU/intro_stat/projects/skivefjord1/skivefjord1_data.csv'\n",
    "\n",
    "# Read file\n",
    "D = pd.read_csv(file_path, sep=';')"
   ]
  },
  {
   "cell_type": "markdown",
   "metadata": {},
   "source": [
    "#### a) Simple summary of data\n"
   ]
  },
  {
   "cell_type": "code",
   "execution_count": null,
   "metadata": {},
   "outputs": [],
   "source": [
    "print(\"Dimensions of data frame (number of rows and columns): \", D.shape)\n",
    "print(\"Column/variable names: \", D.columns)\n",
    "print(\"First 5 rows of D:\") \n",
    "display(D.head())\n",
    "print(\"Last 5 rows of D:\")\n",
    "display(D.tail())\n",
    "print(\"Description of D:\")\n",
    "display(D.describe())\n",
    "print(\"Types of variables:\\n\", D.dtypes) # \\n means new line"
   ]
  },
  {
   "cell_type": "markdown",
   "metadata": {},
   "source": [
    "#### b) Histogram (empirical density)"
   ]
  },
  {
   "cell_type": "code",
   "execution_count": null,
   "metadata": {},
   "outputs": [],
   "source": [
    "# Histogram describing the empirical density of yearly measurements\n",
    "# of nitrateemissions.\n",
    "# Normalised so area equals 1\n",
    "plt.hist(D['Nload'], bins = 10,density=True, color = 'blue', edgecolor = 'black')\n",
    "plt.show()"
   ]
  },
  {
   "cell_type": "markdown",
   "metadata": {},
   "source": [
    "#### Data subsets"
   ]
  },
  {
   "cell_type": "code",
   "execution_count": null,
   "metadata": {},
   "outputs": [],
   "source": [
    "# Subset for VMP0 (first VMP)\n",
    "VMP0 = D[D['vmp']==0]\n",
    "# Check that it is a data.frame with all values for VMP = 0\n",
    "display(VMP0)\n",
    "# subset for VMP1\n",
    "VMP1 = D[D['vmp']==1]\n",
    "# subset for VMP2\n",
    "VMP2 = D[D['vmp']==2]\n",
    "# subset for VMP3\n",
    "VMP3 = D[D['vmp']==3]"
   ]
  },
  {
   "cell_type": "markdown",
   "metadata": {},
   "source": [
    "#### c) Plot development of nitrate emissions"
   ]
  },
  {
   "cell_type": "code",
   "execution_count": null,
   "metadata": {},
   "outputs": [],
   "source": [
    "# plot of nitrate emissions over time (coloured by VMP)\n",
    "plt.plot(D['year'], D['Nload'],'x-', color = 'black') # All in black first\n",
    "# Afterwards, the relevant VMPs on top\n",
    "plt.plot(VMP0['year'], VMP0['Nload'], color = 'red', label = 'VMP0')\n",
    "plt.plot(VMP1['year'], VMP1['Nload'], color = 'blue', label = 'VMP1')\n",
    "plt.plot(VMP2['year'], VMP2['Nload'], color = 'green', label = 'VMP2')\n",
    "plt.plot(VMP3['year'], VMP3['Nload'], color = 'yellow', label = 'VMP3')\n",
    "plt.xlabel('Year')\n",
    "# Add legend\n",
    "plt.legend()\n",
    "plt.show()"
   ]
  },
  {
   "cell_type": "markdown",
   "metadata": {},
   "source": [
    "#### d) Boxplot by VMP"
   ]
  },
  {
   "cell_type": "code",
   "execution_count": null,
   "metadata": {},
   "outputs": [],
   "source": [
    "# Boxplot of nitrate emissions by each VMP\n",
    "plt.boxplot([VMP0['Nload'], VMP1['Nload'], VMP2['Nload'], VMP3['Nload']])            \n",
    "plt.show()"
   ]
  },
  {
   "cell_type": "markdown",
   "metadata": {},
   "source": [
    "#### e) Key summary statistics for VMP's"
   ]
  },
  {
   "cell_type": "code",
   "execution_count": null,
   "metadata": {},
   "outputs": [],
   "source": [
    "# Number of observations of nitrate emissions under VMP0.\n",
    "# not counting missing values\n",
    "print(\"Total number of observations: \", VMP0[VMP0['Nload'].isna()==False].shape[0])\n",
    "print(\"Or total number as: \", VMP0['Nload'].count())\n",
    "\n",
    "# Sample mean of annual nitrate emissions during VMP0\n",
    "print(\"Sample mean: \", VMP0['Nload'].mean(skipna=True))\n",
    "# Sample variance of annual nitrate emissions during VMP0\n",
    "print(\"Sample variance: \", VMP0['Nload'].var(skipna=True,ddof=1))\n",
    "## etc\n",
    "# The argument skipna=True means that missing values are ignored. \n",
    "# If skipna=False the function will return NaN if there are missing values in the dataset."
   ]
  },
  {
   "cell_type": "markdown",
   "metadata": {},
   "source": [
    "#### f) QQ-plot for model validation"
   ]
  },
  {
   "cell_type": "code",
   "execution_count": null,
   "metadata": {},
   "outputs": [],
   "source": [
    "# QQ-plot for nitrateemissions under VMP0\n",
    "sm.qqplot(VMP0['Nload'], line ='q')\n",
    "plt.show()\n"
   ]
  },
  {
   "cell_type": "markdown",
   "metadata": {},
   "source": [
    "#### g-h) One-sample t-test"
   ]
  },
  {
   "cell_type": "code",
   "execution_count": null,
   "metadata": {},
   "outputs": [],
   "source": [
    "# Test hypythesis mu = 2000 for VMP0\n",
    "res = stats.ttest_1samp(VMP0['Nload'], popmean = 2000)\n",
    "print(\"t-obs: \", res[0])\n",
    "print(\"p-værdi: \", res[1])\n",
    "\n",
    "# Confidence interval\n",
    "print(res.confidence_interval())"
   ]
  },
  {
   "cell_type": "markdown",
   "metadata": {},
   "source": [
    "#### i) Welch t-test"
   ]
  },
  {
   "cell_type": "code",
   "execution_count": null,
   "metadata": {},
   "outputs": [],
   "source": [
    "# Comparison of yearly nitrate emissions under VMP0 and VMP3\n",
    "res = stats.ttest_ind(VMP0['Nload'],VMP3['Nload'], equal_var=False)\n",
    "print(\"t-obs: \", res[0])\n",
    "print(\"p-value: \", res[1])"
   ]
  },
  {
   "cell_type": "markdown",
   "metadata": {},
   "source": [
    "#### k) Correlation"
   ]
  },
  {
   "cell_type": "code",
   "execution_count": null,
   "metadata": {},
   "outputs": [],
   "source": [
    "# Calculation of correlation between Nload and Pload\n",
    "print(D[['Nload', 'Pload']].corr())"
   ]
  },
  {
   "cell_type": "markdown",
   "metadata": {},
   "source": [
    "## EXTRA"
   ]
  },
  {
   "cell_type": "markdown",
   "metadata": {},
   "source": [
    "#### Subsets i Python"
   ]
  },
  {
   "cell_type": "code",
   "execution_count": null,
   "metadata": {},
   "outputs": [],
   "source": [
    "## Extra information about picking out subsets in Python\n",
    "#\n",
    "# Logical vector with TRUE or FALSE for every value in a column in D,\n",
    "# for example: Find all women in the dataframe\n",
    "VMP0_logisk = D['vmp'] == 0\n",
    "print(\"Logical vector: \\n\", VMP0_logisk)\n",
    "# This can be used to extract the data for VMP0 (where the logical vector is true)\n",
    "print(\"Using logical vector:\")\n",
    "display(D[VMP0_logisk])\n",
    "# A vector of this type could also be used to plot data from each VMP in a for loop\n",
    "plt.plot(D['year'], D['Nload'], 'x', color = 'black')\n",
    "for i in range(4):\n",
    "    plt.plot(D[D['vmp'] == i]['year'], D[D['vmp'] == i]['Nload'], '-', label = f'VMP{i}')\n",
    "plt.show()\n",
    "# Alternatively you can use the .loc function\n",
    "print(\"Using .loc:\")\n",
    "display(D.loc[D['vmp'] == 0, :]) # \":\" means all comlumns\n",
    "# More complex logical expressions can be made, for example:\n",
    "# Find all observations from after 1984 and from VMP 0\n",
    "print(\"VMP0 after 1984:\")\n",
    "display(D[(D['vmp'] == 0) & (D['year'] > 1984)])\n",
    "\n",
    "# \"display()\" function gives a nicer table than print. It is \n",
    "# especially useful when working with dataframes (pandas)"
   ]
  },
  {
   "cell_type": "markdown",
   "metadata": {},
   "source": [
    "#### Additional Python tips"
   ]
  },
  {
   "cell_type": "code",
   "execution_count": null,
   "metadata": {},
   "outputs": [],
   "source": [
    "## Make a for loop to calculate some summary \n",
    "## statistics and save the result in a new data frame\n",
    "Tbl = pd.DataFrame()\n",
    "for i in range(4):\n",
    "    Tbl.loc[i, \"Nload_mean\"] = D[D['vmp'] == i]['Nload'].mean()\n",
    "    Tbl.loc[i, \"Nload_var\"] = D[D['vmp'] == i]['Nload'].var(ddof=1)\n",
    "    \n",
    "# name rows\n",
    "Tbl.index = ['VMP0', 'VMP1', 'VMP2', 'VMP3']\n",
    "# show\n",
    "display(Tbl)"
   ]
  },
  {
   "cell_type": "code",
   "execution_count": null,
   "metadata": {},
   "outputs": [],
   "source": [
    "# There are many other ways to do these calculations, some more concise. For example\n",
    "result = D.groupby('vmp')['Nload'].agg(['mean', 'var'])\n",
    "# Here, the groupby function is used to group the data by VMP,\n",
    "# and then the agg function is used to calculate the mean and variance of Nload for each group.\n",
    "display(result)\n",
    "\n",
    "# See more functions in pandas documentation: https://pandas.pydata.org/pandas-docs/stable/reference/api/pandas.DataFrame.html\n",
    "# Numpy documentationen: https://numpy.org/doc/stable/reference/index.html\n",
    "# Or find documentation or guides on other python packages/functions online."
   ]
  },
  {
   "cell_type": "markdown",
   "metadata": {},
   "source": [
    "#### Latex Tips\n",
    "Pandas (pd) also includes a function that is very handy for writing tables/dataframes directly into Latex-code. \n",
    "This is done by usind the function `pd.to_latex()`.\n",
    "The following is the simplest form of the function:"
   ]
  },
  {
   "cell_type": "code",
   "execution_count": null,
   "metadata": {},
   "outputs": [],
   "source": [
    "Tbl_latex = Tbl.to_latex()\n",
    "print(Tbl_latex)"
   ]
  }
 ],
 "metadata": {
  "kernelspec": {
   "display_name": "Python 3",
   "language": "python",
   "name": "python3"
  },
  "language_info": {
   "codemirror_mode": {
    "name": "ipython",
    "version": 3
   },
   "file_extension": ".py",
   "mimetype": "text/x-python",
   "name": "python",
   "nbconvert_exporter": "python",
   "pygments_lexer": "ipython3",
   "version": "3.11.4"
  }
 },
 "nbformat": 4,
 "nbformat_minor": 2
}
